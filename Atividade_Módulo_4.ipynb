{
  "nbformat": 4,
  "nbformat_minor": 0,
  "metadata": {
    "colab": {
      "provenance": [],
      "authorship_tag": "ABX9TyO6PZdW7jtFXsOa3SlLmRUN",
      "include_colab_link": true
    },
    "kernelspec": {
      "name": "python3",
      "display_name": "Python 3"
    },
    "language_info": {
      "name": "python"
    }
  },
  "cells": [
    {
      "cell_type": "markdown",
      "metadata": {
        "id": "view-in-github",
        "colab_type": "text"
      },
      "source": [
        "<a href=\"https://colab.research.google.com/github/Gislane1997/Gislane1997/blob/main/Atividade_M%C3%B3dulo_4.ipynb\" target=\"_parent\"><img src=\"https://colab.research.google.com/assets/colab-badge.svg\" alt=\"Open In Colab\"/></a>"
      ]
    },
    {
      "cell_type": "code",
      "execution_count": 2,
      "metadata": {
        "colab": {
          "base_uri": "https://localhost:8080/"
        },
        "id": "OeTjhsO8yeNu",
        "outputId": "a4befd4c-2597-468c-925e-5af769d0a0e7"
      },
      "outputs": [
        {
          "name": "stdout",
          "output_type": "stream",
          "text": [
            "Digite o primeiro número: 50\n",
            "Digite o segundo número: 80\n"
          ]
        }
      ],
      "source": [
        "num1 = input(\"Digite o primeiro número: \")\n",
        "num2 = input(\"Digite o segundo número: \")"
      ]
    },
    {
      "cell_type": "code",
      "source": [
        "num1 = float(num1) if '.' in num1 else int(num1)\n",
        "num2 = float(num2) if '.' in num2 else int(num2)"
      ],
      "metadata": {
        "id": "RkLkYZFezolP"
      },
      "execution_count": 3,
      "outputs": []
    },
    {
      "cell_type": "code",
      "source": [
        "soma = num1 + num2\n",
        "subtracao = num1 - num2\n",
        "multiplicacao = num1 * num2\n",
        "divisao = num1 / num2 if num2 != 0 else \"Indefinido (dibisão por zero)\"\n",
        "modulo = num1 % num2 if isinstance(num1, int) and isinstance(num2, int) else \"Não aplicável a números decimais\""
      ],
      "metadata": {
        "id": "AYTwZ4V60SdO"
      },
      "execution_count": 4,
      "outputs": []
    },
    {
      "cell_type": "code",
      "source": [
        "if num1 > num2:\n",
        "    comparacao = \"O primeiro número é maior que o segundo.\"\n",
        "elif num1 < num2:\n",
        "    comparacao = \"O segundo número é maior que o primeiro.\"\n",
        "else:\n",
        "    comparacao = \"Os dois números são iguais.\""
      ],
      "metadata": {
        "id": "iFZ0Tilw150L"
      },
      "execution_count": 5,
      "outputs": []
    },
    {
      "cell_type": "code",
      "source": [
        "print(\"\\nResultados:\")\n",
        "print(f\"Soma: {soma}\")\n",
        "print(f\"Subtração: {subtracao}\")\n",
        "print(f\"Multiplicação: {multiplicacao}\")\n",
        "print(f\"Divisão: {divisao}\")\n",
        "print(f\"Módulo: {modulo}\")\n",
        "print(comparacao)"
      ],
      "metadata": {
        "colab": {
          "base_uri": "https://localhost:8080/"
        },
        "id": "ylMN7ktU3IUU",
        "outputId": "7c060b79-7ce7-430c-e4c9-c10f43d99cdc"
      },
      "execution_count": 8,
      "outputs": [
        {
          "output_type": "stream",
          "name": "stdout",
          "text": [
            "\n",
            "Resultados:\n",
            "Soma: 130\n",
            "Subtração: -30\n",
            "Multiplicação: 4000\n",
            "Divisão: 0.625\n",
            "Módulo: 50\n",
            "O segundo número é maior que o primeiro.\n"
          ]
        }
      ]
    }
  ]
}